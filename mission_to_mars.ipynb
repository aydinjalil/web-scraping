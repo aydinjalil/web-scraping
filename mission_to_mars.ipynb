{
 "cells": [
  {
   "cell_type": "code",
   "execution_count": 1,
   "metadata": {},
   "outputs": [],
   "source": [
    "import os\n",
    "from bs4 import BeautifulSoup\n",
    "from splinter import Browser\n",
    "import requests\n",
    "import json\n",
    "import pandas as pd"
   ]
  },
  {
   "cell_type": "markdown",
   "metadata": {},
   "source": [
    "# Using Splinter\n",
    "\n",
    "* Little googling guided me a little bit and it turns out the splinter is able to execute different languages and allows to read all the content. Simple requests does read only the html portion."
   ]
  },
  {
   "cell_type": "markdown",
   "metadata": {},
   "source": [
    "# 1. NASA Mars News"
   ]
  },
  {
   "cell_type": "code",
   "execution_count": 2,
   "metadata": {},
   "outputs": [],
   "source": [
    "executable_path = {\"executable_path\": \"C:/Users/aydin/Downloads/chromedriver_win32/chromedriver.exe\"}\n",
    "browser = Browser(\"chrome\", **executable_path, headless=False)"
   ]
  },
  {
   "cell_type": "code",
   "execution_count": 3,
   "metadata": {},
   "outputs": [],
   "source": [
    "news_url = \"https://mars.nasa.gov/news/?page=0&per_page=40&order=publish_date+desc%2Ccreated_at+desc&search=&category=19%2C165%2C184%2C204&blank_scope=Latest\"\n",
    "browser.visit(news_url)"
   ]
  },
  {
   "cell_type": "code",
   "execution_count": 5,
   "metadata": {},
   "outputs": [],
   "source": [
    "html = browser.html\n",
    "soup = BeautifulSoup(html, 'html.parser')\n",
    "#print(soup.prettify())"
   ]
  },
  {
   "cell_type": "code",
   "execution_count": 6,
   "metadata": {},
   "outputs": [
    {
     "name": "stdout",
     "output_type": "stream",
     "text": [
      "Number of titles: 52\n",
      "Number of Paragraphs: 40\n",
      "\n",
      "\u001b[1mNASA's Curiosity Mars Rover Snaps Its Highest-Resolution Panorama Yet:\u001b[0m\n",
      "To go along with the stunning 1.8-billion-pixel image, a new video offers a sweeping view of the Red Planet.\n"
     ]
    }
   ],
   "source": [
    "titles = []\n",
    "para = []\n",
    "for title in soup.find_all('div', class_='content_title'):\n",
    "    if title.a:\n",
    "        titles.append(title.a.text)\n",
    "for paragraph in soup.find_all('div', class_='article_teaser_body'):\n",
    "    if paragraph.text == False:\n",
    "        para.append('False')\n",
    "    else: \n",
    "        para.append(paragraph.text)\n",
    "print(f\"Number of titles: {len(titles)}\\nNumber of Paragraphs: {len(para)}\\n\")\n",
    "\n",
    "print(f\"\\033[1m{titles[0]}:\\033[0m\\n{para[0]}\")\n",
    "\n",
    "latest_title = titles[0]\n",
    "latest_para = para[0]"
   ]
  },
  {
   "cell_type": "markdown",
   "metadata": {},
   "source": [
    "We can see that titles are greater in number than the paragraph texts. Since the assignment asks to fetch only the first title and associated text we just have to visually verify whether both elements are what we are looking for.  "
   ]
  },
  {
   "cell_type": "markdown",
   "metadata": {},
   "source": [
    "# 2. JPL Mars Space Images - Featured Image"
   ]
  },
  {
   "cell_type": "code",
   "execution_count": 7,
   "metadata": {
    "scrolled": true
   },
   "outputs": [],
   "source": [
    "browser = Browser(\"chrome\", **executable_path, headless=False)\n",
    "mars_pic_url = \"https://www.jpl.nasa.gov/spaceimages/?search=&category=Mars\"\n",
    "browser.visit(mars_pic_url)\n",
    "mars_pic_html = browser.html\n",
    "mars_pic_soup = BeautifulSoup(mars_pic_html, 'html.parser')"
   ]
  },
  {
   "cell_type": "markdown",
   "metadata": {},
   "source": [
    "### Small code to fetch the largesize image"
   ]
  },
  {
   "cell_type": "code",
   "execution_count": 8,
   "metadata": {},
   "outputs": [
    {
     "name": "stdout",
     "output_type": "stream",
     "text": [
      "jpl.nasa.gov/spaceimages/images/largesize/PIA23623_hires.jpg\n"
     ]
    }
   ],
   "source": [
    "high_res_pics = []\n",
    "image_url = ''\n",
    "for anchors in mars_pic_soup.find_all('a', class_='fancybox'):\n",
    "    if 'largesize' in anchors['data-fancybox-href']:\n",
    "        image_url = 'jpl.nasa.gov' + anchors['data-fancybox-href']\n",
    "        high_res_pics.append(image_url)\n",
    "featured_image_url = high_res_pics[0]\n",
    "print(featured_image_url)"
   ]
  },
  {
   "cell_type": "markdown",
   "metadata": {},
   "source": [
    "# 3. Mars Weather - Scraping Twitter\n",
    "\n",
    "* For some reason splinter did not work while trying to fetch the weather information from twitter. It kept delivering the Login and Sign in pages. So I needed to go back to requests the url."
   ]
  },
  {
   "cell_type": "code",
   "execution_count": 42,
   "metadata": {},
   "outputs": [],
   "source": [
    "browser.quit()\n",
    "url_twitter = \"https://twitter.com/marswxreport?lang=en\" \n",
    "twitter_html = requests.get(url_twitter).text\n",
    "twitter_html = twitter_html.replace(\"\\n\", \", \")\n",
    "twitter_soup = BeautifulSoup(twitter_html, 'html.parser')"
   ]
  },
  {
   "cell_type": "markdown",
   "metadata": {},
   "source": [
    "### Small code for scraping Mars weather information"
   ]
  },
  {
   "cell_type": "code",
   "execution_count": 10,
   "metadata": {},
   "outputs": [
    {
     "data": {
      "text/plain": [
       "' sol 451 (2020-03-03) low -93.6ºC (-136.4ºF) high -10.3ºC (13.4ºF), winds from the SSE at 6.3 m/s (14.2 mph) gusting to 19.9 m/s (44.5 mph), pressure at 6.30 hPa'"
      ]
     },
     "execution_count": 10,
     "metadata": {},
     "output_type": "execute_result"
    }
   ],
   "source": [
    "weather_list = []\n",
    "for weather in twitter_soup.find_all('div', class_= \"js-tweet-text-container\"):\n",
    "    if \"InSight\" in weather.p.text:\n",
    "        weather_list.append(weather.p.getText().split('InSight')[1])\n",
    "\n",
    "#latest Mars Weather stats\n",
    "mars_weather = weather_list[0].split('pic.twitter.com')[0]\n",
    "mars_weather"
   ]
  },
  {
   "cell_type": "markdown",
   "metadata": {},
   "source": [
    "# 4. Mars Facts - Web scraping with Pandas and BeautifulSoup"
   ]
  },
  {
   "cell_type": "code",
   "execution_count": 26,
   "metadata": {},
   "outputs": [
    {
     "name": "stdout",
     "output_type": "stream",
     "text": [
      "<table border=\"1\" class=\"dataframe\">\n",
      "  <thead>\n",
      "    <tr style=\"text-align: right;\">\n",
      "      <th></th>\n",
      "      <th>0</th>\n",
      "      <th>1</th>\n",
      "    </tr>\n",
      "  </thead>\n",
      "  <tbody>\n",
      "    <tr>\n",
      "      <th>0</th>\n",
      "      <td>Equatorial Diameter:</td>\n",
      "      <td>6,792 km</td>\n",
      "    </tr>\n",
      "    <tr>\n",
      "      <th>1</th>\n",
      "      <td>Polar Diameter:</td>\n",
      "      <td>6,752 km</td>\n",
      "    </tr>\n",
      "    <tr>\n",
      "      <th>2</th>\n",
      "      <td>Mass:</td>\n",
      "      <td>6.39 × 10^23 kg (0.11 Earths)</td>\n",
      "    </tr>\n",
      "    <tr>\n",
      "      <th>3</th>\n",
      "      <td>Moons:</td>\n",
      "      <td>2 (Phobos &amp; Deimos)</td>\n",
      "    </tr>\n",
      "    <tr>\n",
      "      <th>4</th>\n",
      "      <td>Orbit Distance:</td>\n",
      "      <td>227,943,824 km (1.38 AU)</td>\n",
      "    </tr>\n",
      "    <tr>\n",
      "      <th>5</th>\n",
      "      <td>Orbit Period:</td>\n",
      "      <td>687 days (1.9 years)</td>\n",
      "    </tr>\n",
      "    <tr>\n",
      "      <th>6</th>\n",
      "      <td>Surface Temperature:</td>\n",
      "      <td>-87 to -5 °C</td>\n",
      "    </tr>\n",
      "    <tr>\n",
      "      <th>7</th>\n",
      "      <td>First Record:</td>\n",
      "      <td>2nd millennium BC</td>\n",
      "    </tr>\n",
      "    <tr>\n",
      "      <th>8</th>\n",
      "      <td>Recorded By:</td>\n",
      "      <td>Egyptian astronomers</td>\n",
      "    </tr>\n",
      "  </tbody>\n",
      "</table>\n"
     ]
    }
   ],
   "source": [
    "mars_facts_url = \"https://space-facts.com/mars/\" \n",
    "response = requests.get(mars_facts_url)\n",
    "soup = BeautifulSoup(response.content,'html.parser')\n",
    "table = soup.find_all('table')[0] \n",
    "df = pd.read_html(str(table))\n",
    "mars_html_table = df[0].to_html()\n",
    "print(mars_html_table)"
   ]
  },
  {
   "cell_type": "markdown",
   "metadata": {},
   "source": [
    "# 5. Mars Hemispheres"
   ]
  },
  {
   "cell_type": "code",
   "execution_count": 40,
   "metadata": {},
   "outputs": [
    {
     "name": "stdout",
     "output_type": "stream",
     "text": [
      "<!DOCTYPE html>\n",
      "<html lang=\"en\">\n",
      " <head>\n",
      "  <link href=\"//ajax.googleapis.com/ajax/libs/jqueryui/1.11.3/themes/smoothness/jquery-ui.css\" rel=\"stylesheet\" type=\"text/css\"/>\n",
      "  <title>\n",
      "   Astropedia Search Results | USGS Astrogeology Science Center\n",
      "  </title>\n",
      "  <meta content=\"USGS Astrogeology Science Center Astropedia search results.\" name=\"description\"/>\n",
      "  <meta content=\"USGS,Astrogeology Science Center,Cartography,Geology,Space,Geological Survey,Mapping\" name=\"keywords\"/>\n",
      "  <meta content=\"IE=edge\" http-equiv=\"X-UA-Compatible\"/>\n",
      "  <meta content=\"text/html; charset=utf-8\" http-equiv=\"Content-Type\"/>\n",
      "  <meta content=\"width=device-width, initial-scale=1, maximum-scale=1\" name=\"viewport\"/>\n",
      "  <meta content=\"x61hXXVj7wtfBSNOPnTftajMsZ5yB2W-qRoyr7GtOKM\" name=\"google-site-verification\"/>\n",
      "  <!--<link rel=\"stylesheet\" href=\"http://fonts.googleapis.com/css?family=Open+Sans:400italic,400,bold\"/>-->\n",
      "  <link href=\"/css/main.css\" media=\"screen\" rel=\"stylesheet\"/>\n",
      "  <link href=\"/css/print.css\" media=\"print\" rel=\"stylesheet\"/>\n",
      "  <!--[if lt IE 9]>\r\n",
      "\t\t\t<script src=\"http://html5shiv.googlecode.com/svn/trunk/html5.js\"></script>\r\n",
      "\t\t\t<script src=\"/js/respond.min.js\"></script>\r\n",
      "\t\t\t<link rel=\"stylesheet\" type=\"text/css\" href=\"/css/ie.css\"/>\r\n",
      "                        <script>\r\n",
      "                          document.createElement('header');\r\n",
      "                          document.createElement('nav');\r\n",
      "                          document.createElement('section');\r\n",
      "                          document.createElement('article');\r\n",
      "                          document.createElement('aside');\r\n",
      "                          document.createElement('footer');\r\n",
      "                          document.createElement('hgroup');\r\n",
      "                        </script>\r\n",
      "                  <![endif]-->\n",
      "  <link href=\"/favicon.ico\" rel=\"icon\" type=\"image/x-ico\"/>\n",
      " </head>\n",
      " <body id=\"results\">\n",
      "  <header>\n",
      "   <!--\r\n",
      "\t\t\t<h1>Astrogeology Science Center</h1>\r\n",
      "-->\n",
      "   <a href=\"https://www.usgs.gov/centers/astrogeo-sc\" style=\"float:right;margin-top:10px;\">\n",
      "    <img alt=\"USGS: Science for a Changing World\" class=\"logo\" height=\"60\" src=\"/images/usgs_logo_main_2x.png\"/>\n",
      "   </a>\n",
      "   <a href=\"https://nasa.gov\" style=\"float:right;margin-top:5px;margin-right:20px;\">\n",
      "    <img alt=\"NASA\" class=\"logo\" height=\"65\" src=\"/images/logos/nasa-logo-web-med.png\"/>\n",
      "   </a>\n",
      "   <a href=\"https://pds-imaging.jpl.nasa.gov/\" style=\"float:right;margin-top:5px;margin-right: 10px;\">\n",
      "    <img alt=\"PDS Cartography and Imaging Science Node\" class=\"logo\" height=\"65\" src=\"/images/pds_logo-invisible-web.png\"/>\n",
      "   </a>\n",
      "  </header>\n",
      "  <div class=\"wrapper\">\n",
      "   <!--\r\n",
      "\t\t\t<nav>\r\n",
      "\t\t\t\t<a id=\"nav-toggle\" href=\"#\" title=\"Navigation Menu\">Menu</a>\r\n",
      "<ul class=\"dropdown dropdown-horizontal\" id=\"yw0\">\n",
      "<li><a href=\"/\">Home</a></li>\n",
      "<li><a href=\"/about\">About</a>\n",
      "<ul>\n",
      "<li><a href=\"/about/careers\">Careers</a></li>\n",
      "<li><a href=\"/contact\">Contact</a></li>\n",
      "<li><a href=\"/about/events\">Events</a></li>\n",
      "<li><a href=\"/site/glossary\">Glossary</a></li>\n",
      "<li><a href=\"/about/mission\">Mission</a></li>\n",
      "<li><a href=\"/news\">News</a></li>\n",
      "<li><a href=\"/people\">People</a></li>\n",
      "<li><a href=\"/about/using-our-images\">Using Our Images</a></li>\n",
      "<li><a href=\"/about/visitors\">Visitors</a></li>\n",
      "</ul>\n",
      "</li>\n",
      "<li><a href=\"/facilities\">Labs / Facilities</a>\n",
      "<ul>\n",
      "<li><a href=\"/facilities/flynn-creek-crater-sample-collection\">Flynn Creek Crater Sample Collection</a></li>\n",
      "<li><a href=\"http://www.moon-cal.org\">Lunar Calibration Project</a></li>\n",
      "<li><a href=\"/facilities/meteor-crater-sample-collection\">Meteor Crater Sample Collection</a></li>\n",
      "<li><a href=\"/facilities/mrctr\">MRCTR GIS Lab</a></li>\n",
      "<li><a href=\"/facilities/cartography-and-imaging-sciences-node-of-nasa-planetary-data-system\">PDS Cartography and Imaging Sciences Node</a></li>\n",
      "<li><a href=\"/pds/annex\">PDS IMG Annex</a></li>\n",
      "<li><a href=\"/facilities/photogrammetry-guest-facility\">Photogrammetry Guest Facility</a></li>\n",
      "<li><a href=\"/rpif\">Regional Planetary Information Facility (RPIF)</a></li>\n",
      "</ul>\n",
      "</li>\n",
      "<li><a href=\"/maps\">Maps / Products</a>\n",
      "<ul>\n",
      "<li><a href=\"/search\">Product Search</a></li>\n",
      "<li><a href=\"http://planetarynames.wr.usgs.gov\">Gazetteer of Planetary Nomenclature</a></li>\n",
      "<li><a href=\"http://planetarymapping.wr.usgs.gov\">Geologic Mapping Program</a></li>\n",
      "<li><a href=\"http://pilot.wr.usgs.gov\">Planetary Image Locator Tool (PILOT)</a></li>\n",
      "<li><a href=\"/search/planetary-index\">Planetary Map Index</a></li>\n",
      "</ul>\n",
      "</li>\n",
      "<li><a href=\"/geology\">Missions / Research</a>\n",
      "<ul>\n",
      "<li><a href=\"/geology/mars-dunes\">Mars Dunes</a></li>\n",
      "<li><a href=\"/geology/mars-ice\">Mars Ice</a></li>\n",
      "<li><a href=\"/missions\">Mission Support</a></li>\n",
      "<li><a href=\"/solar-system\">Solar System</a></li>\n",
      "<li><a href=\"/groups\">Working Groups</a></li>\n",
      "</ul>\n",
      "</li>\n",
      "<li><a href=\"/tools\">Tools</a>\n",
      "<ul>\n",
      "<li><a href=\"http://planetarynames.wr.usgs.gov\">Gazetteer of Planetary Nomenclature</a></li>\n",
      "<li><a href=\"http://isis.astrogeology.usgs.gov\">Integrated Software for Imagers and Spectrometers (ISIS)</a></li>\n",
      "<li><a href=\"http://astrogeology.usgs.gov/tools/map-a-planet-2\">Map a Planet 2</a></li>\n",
      "<li><a href=\"http://pilot.wr.usgs.gov\">Planetary Image Locator Tool (PILOT)</a></li>\n",
      "<li><a href=\"http://astrocloud.wr.usgs.gov/\">Projection on the Web (POW)</a></li>\n",
      "</ul>\n",
      "</li>\n",
      "</ul>\t\t\t\t<form id=\"search\" class=\"search\" action=\"/search/results\" method=\"get\">\r\n",
      "\t\t\t\t\t<input type=\"submit\" value=\"\" title=\"Search Astropedia\"/>\r\n",
      "\t\t\t\t\t<input type=\"text\" placeholder=\"Search\" name=\"q\"/>\r\n",
      "\t\t\t\t</form>\r\n",
      "\t\t\t</nav>\r\n",
      "-->\n",
      "   <div class=\"container\">\n",
      "    <div class=\"widget block bar\">\n",
      "     <a href=\"/search\" style=\"float:right;text-decoration:none;\">\n",
      "      <img alt=\"Astropedia\" src=\"/images/astropedia/astropedia-logo-main.png\" style=\"width:200px;border:none;float:right;\"/>\n",
      "      <div style=\"clear:both;font-size:.8em;float:right;color:#888;\">\n",
      "       Lunar and Planetary Cartographic Catalog\n",
      "      </div>\n",
      "     </a>\n",
      "     <div style=\"float:left;height:60px;\">\n",
      "     </div>\n",
      "    </div>\n",
      "    <form action=\"/search/results\" class=\"bar widget block\" id=\"search-bar\">\n",
      "     <input name=\"q\" type=\"hidden\" value=\"hemisphere-enhanced\"/>\n",
      "     <input name=\"target\" type=\"hidden\" value=\"Mars\"/>\n",
      "     <input name=\"__ncforminfo\" type=\"hidden\" value=\"i5sF-Qe3El058r5Xzeu3QokyL8nk_vUcI7OL82UQBg_MxrmWKTWwc82NgXQNc7jU2j_Ip1CLTYqkmM0lrxXQk74_HUr0aWfF8YBBii5g2U1pT-sDh8Cb1w==\"/>\n",
      "    </form>\n",
      "    <div class=\"full-content\">\n",
      "     <section class=\"block\" id=\"results-accordian\">\n",
      "      <div class=\"result-list\" data-section=\"product\" id=\"product-section\">\n",
      "       <div class=\"accordian\">\n",
      "        <h2>\n",
      "         Products\n",
      "        </h2>\n",
      "        <span class=\"count\">\n",
      "         4 Results\n",
      "        </span>\n",
      "        <span class=\"collapse\">\n",
      "         Collapse\n",
      "        </span>\n",
      "       </div>\n",
      "       <div class=\"collapsible results\">\n",
      "        <div class=\"item\">\n",
      "         <a class=\"itemLink product-item\" href=\"/search/map/Mars/Viking/cerberus_enhanced\">\n",
      "          <img alt=\"Cerberus Hemisphere Enhanced thumbnail\" class=\"thumb\" src=\"/cache/images/dfaf3849e74bf973b59eb50dab52b583_cerberus_enhanced.tif_thumb.png\"/>\n",
      "          <div class=\"description\">\n",
      "           <h3>\n",
      "            Cerberus Hemisphere Enhanced\n",
      "           </h3>\n",
      "          </div>\n",
      "         </a>\n",
      "         <span class=\"subtitle\" style=\"float:left\">\n",
      "          image/tiff 21 MB\n",
      "         </span>\n",
      "         <span class=\"pubDate\" style=\"float:right\">\n",
      "         </span>\n",
      "         <br/>\n",
      "         <p>\n",
      "          Mosaic of the Cerberus hemisphere of Mars projected into point perspective, a view similar to that which one would see from a spacecraft. This mosaic is composed of 104 Viking Orbiter images acquired…\n",
      "         </p>\n",
      "        </div>\n",
      "        <!-- end description -->\n",
      "       </div>\n",
      "       <div class=\"item\">\n",
      "        <a class=\"itemLink product-item\" href=\"/search/map/Mars/Viking/schiaparelli_enhanced\">\n",
      "         <img alt=\"Schiaparelli Hemisphere Enhanced thumbnail\" class=\"thumb\" src=\"/cache/images/7677c0a006b83871b5a2f66985ab5857_schiaparelli_enhanced.tif_thumb.png\"/>\n",
      "         <div class=\"description\">\n",
      "          <h3>\n",
      "           Schiaparelli Hemisphere Enhanced\n",
      "          </h3>\n",
      "         </div>\n",
      "        </a>\n",
      "        <span class=\"subtitle\" style=\"float:left\">\n",
      "         image/tiff 35 MB\n",
      "        </span>\n",
      "        <span class=\"pubDate\" style=\"float:right\">\n",
      "        </span>\n",
      "        <br/>\n",
      "        <p>\n",
      "         Mosaic of the Schiaparelli hemisphere of Mars projected into point perspective, a view similar to that which one would see from a spacecraft. The images were acquired in 1980 during early northern…\n",
      "        </p>\n",
      "       </div>\n",
      "       <!-- end description -->\n",
      "      </div>\n",
      "      <div class=\"item\">\n",
      "       <a class=\"itemLink product-item\" href=\"/search/map/Mars/Viking/syrtis_major_enhanced\">\n",
      "        <img alt=\"Syrtis Major Hemisphere Enhanced thumbnail\" class=\"thumb\" src=\"/cache/images/aae41197e40d6d4f3ea557f8cfe51d15_syrtis_major_enhanced.tif_thumb.png\"/>\n",
      "        <div class=\"description\">\n",
      "         <h3>\n",
      "          Syrtis Major Hemisphere Enhanced\n",
      "         </h3>\n",
      "        </div>\n",
      "       </a>\n",
      "       <span class=\"subtitle\" style=\"float:left\">\n",
      "        image/tiff 25 MB\n",
      "       </span>\n",
      "       <span class=\"pubDate\" style=\"float:right\">\n",
      "       </span>\n",
      "       <br/>\n",
      "       <p>\n",
      "        Mosaic of the Syrtis Major hemisphere of Mars projected into point perspective, a view similar to that which one would see from a spacecraft. This mosaic is composed of about 100 red and violet…\n",
      "       </p>\n",
      "      </div>\n",
      "      <!-- end description -->\n",
      "     </section>\n",
      "    </div>\n",
      "    <div class=\"item\">\n",
      "     <a class=\"itemLink product-item\" href=\"/search/map/Mars/Viking/valles_marineris_enhanced\">\n",
      "      <img alt=\"Valles Marineris Hemisphere Enhanced thumbnail\" class=\"thumb\" src=\"/cache/images/04085d99ec3713883a9a57f42be9c725_valles_marineris_enhanced.tif_thumb.png\"/>\n",
      "      <div class=\"description\">\n",
      "       <h3>\n",
      "        Valles Marineris Hemisphere Enhanced\n",
      "       </h3>\n",
      "      </div>\n",
      "     </a>\n",
      "     <span class=\"subtitle\" style=\"float:left\">\n",
      "      image/tiff 27 MB\n",
      "     </span>\n",
      "     <span class=\"pubDate\" style=\"float:right\">\n",
      "     </span>\n",
      "     <br/>\n",
      "     <p>\n",
      "      Mosaic of the Valles Marineris hemisphere of Mars projected into point perspective, a view similar to that which one would see from a spacecraft. The distance is 2500 kilometers from the surface of…\n",
      "     </p>\n",
      "    </div>\n",
      "    <!-- end description -->\n",
      "   </div>\n",
      "   <script>\n",
      "    addBases=[];;if(typeof resetLayerSwitcher===\"function\"){resetLayerSwitcher(false)};var productTotal = 4;\n",
      "   </script>\n",
      "  </div>\n",
      "  <!-- end this-section -->\n",
      " </body>\n",
      "</html>\n",
      "<div class=\"icons projects black scroll-wrapper\">\n",
      " <div class=\"scroll\">\n",
      "  <a class=\"icon\" href=\"http://isis.astrogeology.usgs.gov\" title=\"Integrated Software for Imagers and Spectrometers\">\n",
      "   <img alt=\"ISIS Logo\" height=\"112\" src=\"/images/logos/isis_2x.jpg\" width=\"112\">\n",
      "    <span class=\"label\">\n",
      "     ISIS\n",
      "    </span>\n",
      "   </img>\n",
      "  </a>\n",
      "  <a class=\"icon\" href=\"http://planetarynames.wr.usgs.gov\" title=\"Gazetteer of Planetary Nomenclature\">\n",
      "   <img alt=\"Nomenclature Logo\" height=\"112\" src=\"/images/logos/nomenclature_2x.jpg\" width=\"112\">\n",
      "    <span class=\"label\">\n",
      "     Planetary Nomenclature\n",
      "    </span>\n",
      "   </img>\n",
      "  </a>\n",
      "  <a class=\"icon\" href=\"https://astrogeology.usgs.gov/tools/map-a-planet-2\" title=\"Map a Planet 2\">\n",
      "   <img alt=\"Map-a-Planet Logo\" height=\"112\" src=\"/images/logos/map_a_planet_2x.jpg\" width=\"112\">\n",
      "    <span class=\"label\">\n",
      "     Map a Planet 2\n",
      "    </span>\n",
      "   </img>\n",
      "  </a>\n",
      "  <a class=\"icon\" href=\"https://www.usgs.gov/centers/astrogeo-sc/science/cartography-and-imaging-sciences-node-nasa-planetary-data-system\" title=\"PDS Cartography and Imaging Science Node\">\n",
      "   <img alt=\"PDS Logo\" height=\"112\" src=\"/images/pds_logo-black-web.png\">\n",
      "    <span class=\"label\">\n",
      "     PDS Cartography and Imaging Science Node\n",
      "    </span>\n",
      "   </img>\n",
      "  </a>\n",
      "  <!--\r\n",
      "\t\t\t\t\t\t<a title=\"Astropedia Search\" href=\"/search\" class=\"icon\">\r\n",
      "\t\t\t\t\t\t\t<img alt=\"Astropedia Logo\" height=\"112\" width=\"112\" src=\"/images/logos/astropedia_2x.jpg\"/>\r\n",
      "\t\t\t\t\t\t\t<span class=\"label\">Astropedia</span>\r\n",
      "\t\t\t\t\t\t</a>\r\n",
      "-->\n",
      "  <a class=\"icon\" href=\"https://www.usgs.gov/centers/astrogeo-sc/science/regional-planetary-image-facility-rpif\" title=\"Regional Planetary Image Facility\">\n",
      "   <img alt=\"RPIF Logo\" height=\"112\" src=\"/images/logos/rpif_2x.jpg\" width=\"112\"/>\n",
      "   <span class=\"label\">\n",
      "    RPIF\n",
      "   </span>\n",
      "  </a>\n",
      "  <a class=\"icon\" href=\"\" title=\"Photogrammetry Guest Facility\">\n",
      "   <img alt=\"Photogrammetry Guest Faciltiy Logo\" height=\"112\" src=\"/images/logos/photogrammetry_2x.jpg\" width=\"112\"/>\n",
      "   <span class=\"label\">\n",
      "    Photogrammetry Guest Facility\n",
      "   </span>\n",
      "  </a>\n",
      "  <a class=\"icon\" href=\"http://pilot.wr.usgs.gov\" title=\"Planetary Image Locator Tool\">\n",
      "   <img alt=\"Pilot Logo\" height=\"112\" src=\"/images/logos/pilot_2x.jpg\" width=\"112\"/>\n",
      "   <span class=\"label\">\n",
      "    PILOT\n",
      "   </span>\n",
      "  </a>\n",
      "  <a class=\"icon\" href=\"https://www.usgs.gov/centers/astrogeo-sc/science/mrctr-gis-lab\" title=\"Mapping, Remote-sensing, Cartography, Technology and Research GIS Lab\">\n",
      "   <img alt=\"MRCTR GIS Lab Logo\" height=\"112\" src=\"/images/logos/mrctr_man_2x.png\" width=\"112\"/>\n",
      "   <span class=\"label\">\n",
      "    MRCTR GIS Lab\n",
      "   </span>\n",
      "  </a>\n",
      " </div>\n",
      "</div>\n",
      "<footer>\n",
      " <div class=\"left\">\n",
      "  <a href=\"http://astrogeology.usgs.gov/search\">\n",
      "   Search\n",
      "  </a>\n",
      "  |\n",
      "  <a href=\"http://astrogeology.usgs.gov/maps/about\">\n",
      "   About\n",
      "  </a>\n",
      "  |\n",
      "  <a href=\"http://astrogeology.usgs.gov/maps/contact\">\n",
      "   Contact\n",
      "  </a>\n",
      " </div>\n",
      " <div class=\"right\">\n",
      "  <a href=\"https://www.usgs.gov/centers/astrogeo-sc\">\n",
      "   USGS Astrogeology Science Center\n",
      "  </a>\n",
      " </div>\n",
      "</footer>\n",
      "<!--\r\n",
      "\t\t<div class=\"credit\">\r\n",
      "\t\t\t<small>Background Credits: NASA/USGS</small>\r\n",
      "\t\t</div>\r\n",
      "-->\n",
      "<div class=\"page-background\" style=\"\r\n",
      "\t\t\tbackground:url('/images/backgrounds/mars.jpg');\r\n",
      "\t\t\tfilter:progid:DXImageTransform.Microsoft.AlphaImageLoader(\r\n",
      "\t\t\t\tsrc='/images/backgrounds/mars.jpg', sizingMethod='scale');\r\n",
      "\t\t\">\n",
      "</div>\n",
      "<script type=\"text/javascript\">\n",
      " var baseUrl = \"\";\r\n",
      "\r\n",
      "/*\r\n",
      "var _gaq = _gaq || [];_gaq.push(['_setAccount', 'UA-27613186-1']);_gaq.push(['_trackPageview']);(function() { var ga = document.createElement('script'); ga.type = 'text/javascript'; ga.async = true;ga.src = ('https:' == document.location.protocol ? 'https://ssl' : 'http://www') + '.google-analytics.com/ga.js'; var s = document.getElementsByTagName('script')[0]; s.parentNode.insertBefore(ga, s);})();\r\n",
      "*/\n",
      "</script>\n",
      "<script src=\"https://ajax.googleapis.com/ajax/libs/jquery/1.11.1/jquery.min.js\" type=\"text/javascript\">\n",
      "</script>\n",
      "<script src=\"//ajax.googleapis.com/ajax/libs/jqueryui/1.11.3/jquery-ui.min.js\" type=\"text/javascript\">\n",
      "</script>\n",
      "<script src=\"/js/general.js\" type=\"text/javascript\">\n",
      "</script>\n",
      "\n"
     ]
    }
   ],
   "source": [
    "browser.quit()\n",
    "#browser = Browser(\"chrome\", **executable_path, headless=False)\n",
    "usgs_url = \"https://astrogeology.usgs.gov/search/results?q=hemisphere+enhanced&k1=target&v1=Mars\"\n",
    "#browser.visit(usgs_url)\n",
    "#usgs_html = browser.html\n",
    "#usgs_soup = BeautifulSoup(usgs_html, 'html.parser')\n",
    " \n",
    "response = requests.get(usgs_url)\n",
    "soup = BeautifulSoup(response.content,'html.parser')\n",
    "print(soup.prettify())"
   ]
  },
  {
   "cell_type": "code",
   "execution_count": 84,
   "metadata": {},
   "outputs": [
    {
     "name": "stdout",
     "output_type": "stream",
     "text": [
      "['Cerberus Hemisphere', 'Schiaparelli Hemisphere', 'Syrtis Major Hemisphere', 'Valles Marineris Hemisphere']\n",
      "https://astrogeology.usgs.gov//search/map/Mars/Viking/valles_marineris_enhanced\n"
     ]
    }
   ],
   "source": [
    "hemisphere_urls  = []\n",
    "title_list = []\n",
    "hemisphere = {}\n",
    "for items in usgs_soup.find_all('div', class_='item'):\n",
    "    title = items.div.h3.text.replace(' Enhanced', '')\n",
    "    hemisphere['title'] = title\n",
    "    title_list.append(title)\n",
    "    hemisphere_url = usgs_url.split('search')[0] + items.a['href']\n",
    "    hemisphere_urls.append(hemisphere_url)\n",
    "    \n",
    "\n",
    "for i in range(len(title_list)):\n",
    "    hemisphere[title] = title_list[i]\n",
    "    \n",
    "    \n",
    "# for url in hemisphere_urls:\n",
    "#     hemisphere['title']\n",
    "# response = requests.get(hemisphere_url)\n",
    "# hemisphere_soup = BeautifulSoup(response.content, 'html.parser')\n",
    "print(hemisphere_url)\n",
    "#     for download in hemisphere_soup.find_all('div', {'class':'downloads'}):\n",
    "#         hemisphere['img_url'] = download.ul.a.get('href')\n",
    "#         #hemisphere['img_url'] = download.ul.a['href']\n",
    "#         hemisphere_image_urls.append(hemisphere)\n",
    "        "
   ]
  },
  {
   "cell_type": "code",
   "execution_count": 79,
   "metadata": {},
   "outputs": [
    {
     "name": "stdout",
     "output_type": "stream",
     "text": [
      "{\"title\": \"Valles Marineris Hemisphere\", \"img_url\": \"http://astropedia.astrogeology.usgs.gov/download/Mars/Viking/valles_marineris_enhanced.tif/full.jpg\"}\n",
      "{\"title\": \"Valles Marineris Hemisphere\", \"img_url\": \"http://astropedia.astrogeology.usgs.gov/download/Mars/Viking/valles_marineris_enhanced.tif/full.jpg\"}\n",
      "{\"title\": \"Valles Marineris Hemisphere\", \"img_url\": \"http://astropedia.astrogeology.usgs.gov/download/Mars/Viking/valles_marineris_enhanced.tif/full.jpg\"}\n",
      "{\"title\": \"Valles Marineris Hemisphere\", \"img_url\": \"http://astropedia.astrogeology.usgs.gov/download/Mars/Viking/valles_marineris_enhanced.tif/full.jpg\"}\n"
     ]
    }
   ],
   "source": [
    "for item in hemisphere_image_urls:\n",
    "    print(json.dumps(item))"
   ]
  },
  {
   "cell_type": "code",
   "execution_count": 24,
   "metadata": {},
   "outputs": [
    {
     "data": {
      "text/plain": [
       "{'image_url': 'new_url'}"
      ]
     },
     "execution_count": 24,
     "metadata": {},
     "output_type": "execute_result"
    }
   ],
   "source": [
    "for "
   ]
  },
  {
   "cell_type": "code",
   "execution_count": null,
   "metadata": {},
   "outputs": [],
   "source": []
  }
 ],
 "metadata": {
  "kernelspec": {
   "display_name": "Python 3.7.5 64-bit ('python37': conda)",
   "language": "python",
   "name": "python37564bitpython37condae93ba7dd679f49659f306f287a61ed81"
  },
  "language_info": {
   "codemirror_mode": {
    "name": "ipython",
    "version": 3
   },
   "file_extension": ".py",
   "mimetype": "text/x-python",
   "name": "python",
   "nbconvert_exporter": "python",
   "pygments_lexer": "ipython3",
   "version": "3.7.5"
  }
 },
 "nbformat": 4,
 "nbformat_minor": 2
}
